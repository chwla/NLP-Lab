{
 "cells": [
  {
   "cell_type": "markdown",
   "id": "b6197aec-f8c2-43f0-afaa-f634fba4e8be",
   "metadata": {},
   "source": [
    "**Lab details:**\n",
    "\n",
    "Natural language Processing (NLP) - CS429\n",
    "Lab Session-4\n",
    "Date- 09/09/2025\n",
    "Marks - 10"
   ]
  },
  {
   "cell_type": "markdown",
   "id": "8528a359-4359-41a6-b4e5-ef4590b85983",
   "metadata": {},
   "source": [
    "**Instruction:**\n",
    "1) The name of your Python file must follow this format: **studentID_Name**\n",
    "   - Example: If Student ID = 2022B3A70617P and Name = Nikhil Manvendra Singh\n",
    "   - File name should be: 2022B3A70617P_Nikhil_Manvendra_Singh.ipynb\n",
    "2) Submission Deadline: 6:15 PM (Today)\n",
    "3) Students are required to fill the blanks with code syntax in the section provided below and Attempt evaluative question"
   ]
  },
  {
   "cell_type": "markdown",
   "id": "b802057f-916f-42d3-9d13-1eacf0e00b49",
   "metadata": {},
   "source": [
    "This labsheet introduces the basics of the Word2Vec model and its application in Natural Language Processing (NLP). In NLP, representing words in a way that preserves their meaning is a crucial step. Traditional approaches such as Bag of Words or TF–IDF only count how often words occur, without considering the context in which they appear. These methods create large and sparse representations, and they fail to capture the relationships between words."
   ]
  },
  {
   "cell_type": "markdown",
   "id": "095e57bb-8ac7-48a1-9338-e4cc0c8e112a",
   "metadata": {},
   "source": [
    "**--------------------------------------------------------------------------Theory Section------------------------------------------------------------------------------------**"
   ]
  },
  {
   "cell_type": "markdown",
   "id": "c58b93bf-4cd7-441c-9eb7-a5147dc547fc",
   "metadata": {},
   "source": [
    "**Word2Vec :**\n",
    "\n",
    "- Word2Vec is a method to turn words into numbers (vectors) so that computers can understand meaning. \n",
    "- Instead of treating words as separate symbols, it represents them in a way that captures their relationships.\n",
    "- Words that appear in similar contexts have similar vectors.\n",
    "- Example: “king” – “man” + “woman” ≈ “queen”."
   ]
  },
  {
   "cell_type": "markdown",
   "id": "25063831-0041-478a-b07a-629efae7840b",
   "metadata": {},
   "source": [
    "**How it works:**\n",
    "\n",
    "- Word2Vec learns from text using a neural network with two main approaches: CBOW and Skip-Gram\n",
    "- **CBOW (Continuous Bag of Words):** Predicts the target word from surrounding context words.\n",
    "  - Example: “The cat ___ on the mat” → predicts sits.\n",
    "- **Skip-Gram:** Predicts surrounding words from a target word.\n",
    "  - Example: Given cat, predicts nearby words like pet, animal, mat."
   ]
  },
  {
   "cell_type": "markdown",
   "id": "557e774e-667b-45a3-b497-ed8bb14c898a",
   "metadata": {},
   "source": [
    "**Why it’s useful:**\n",
    "- Finds similarity between words (dog is close to puppy).\n",
    "- Groups related words together (Paris ↔ France, Tokyo ↔ Japan).\n",
    "- Useful in NLP tasks like translation, sentiment analysis, chatbots, etc."
   ]
  },
  {
   "cell_type": "markdown",
   "id": "d48d86a4-1218-4150-b7f5-166788be1adc",
   "metadata": {},
   "source": [
    "**Why Word2Vec is Better than Previous Embeddings**"
   ]
  },
  {
   "cell_type": "markdown",
   "id": "aab5f781-206b-42b3-a4d0-3074b1f612c7",
   "metadata": {},
   "source": [
    "**1) Captures Meaning (Semantics)**\n",
    "- BoW & TF–IDF only count words → they don’t know that dog and puppy are related.\n",
    "- Word2Vec places similar words close together in vector space.\n",
    "\n",
    "**2) Considers Context**\n",
    "- In Word2Vec, the meaning of a word depends on its neighbors.\n",
    "- Example: “bank” in river bank vs money bank → different contexts.\n",
    "\n",
    "**3) Considers Context**\n",
    "- In Word2Vec, the meaning of a word depends on its neighbors.\n",
    "- Example: “bank” in river bank vs money bank → different contexts.\n",
    "\n",
    "**4) Dense Representation**\n",
    "- BoW/TF–IDF create sparse, huge vectors (mostly zeros).\n",
    "- Word2Vec creates small, dense vectors (like 100–300 dimensions).\n",
    "\n",
    "**5) Learns Relationships**\n",
    "- Arithmetic on vectors is meaningful:\n",
    " - king – man + woman ≈ queen.\n",
    "- Previous methods can’t do this.\n",
    "\n",
    "**6) Efficient & Scalable**\n",
    "- Word2Vec is faster and works well with large text data.\n",
    "- TF–IDF grows too large as vocabulary increases.\n",
    "\n",
    "**7) Generalization**\n",
    "- Word2Vec generalizes better → words not seen often can still be understood by similarity.\n",
    "- TF–IDF gives almost no info for rare words."
   ]
  },
  {
   "cell_type": "markdown",
   "id": "457ccb17-f168-443b-9f9a-6451bd618299",
   "metadata": {},
   "source": [
    "**Research Paper associated with Word2Vec:**  /https://arxiv.org/pdf/1411.2738"
   ]
  },
  {
   "cell_type": "markdown",
   "id": "83d896eb-3854-49be-81f5-2e456f0eae08",
   "metadata": {},
   "source": [
    "**Implementing Word2Vec with Skip-Gram and Negative Sampling:**\n",
    "\n",
    "In this lab, we will implement the Word2Vec model using the Skip-Gram with Negative Sampling technique. For the implementation, please refer to the attached PDF, Section 5.5 titled Word2Vec (pages 10–16)."
   ]
  },
  {
   "cell_type": "markdown",
   "id": "1ef68a9c-3f05-43bd-9e71-9123e6814fed",
   "metadata": {},
   "source": [
    "**--------------------------------------------------------------------------Implementation Section------------------------------------------------------------------------------------**"
   ]
  },
  {
   "cell_type": "markdown",
   "id": "2e85e517-78ce-476f-9651-38e4b6f0b61e",
   "metadata": {},
   "source": [
    "### Import libraries"
   ]
  },
  {
   "cell_type": "code",
   "execution_count": 5,
   "id": "7bb6d6ce-5d89-40dd-8684-725eb5480bf5",
   "metadata": {},
   "outputs": [],
   "source": [
    "import math\n",
    "import random\n",
    "from collections import Counter\n",
    "from itertools import chain\n",
    "import numpy as np\n",
    "import torch\n",
    "import torch.nn.functional as F\n",
    "from torch import nn\n",
    "from torch.utils.data import Dataset, DataLoader\n",
    "from tqdm import tqdm"
   ]
  },
  {
   "cell_type": "code",
   "execution_count": 6,
   "id": "0c0a6c81-6309-4e89-9ee4-aa4f17b93670",
   "metadata": {},
   "outputs": [
    {
     "name": "stdout",
     "output_type": "stream",
     "text": [
      "Corpus size: 21\n",
      "First sentence: I like to eat apricot jam on toast\n"
     ]
    }
   ],
   "source": [
    "tiny_corpus = [\n",
    "    \"I like to eat apricot jam on toast\",\n",
    "    \"The jar of apricot jam is on the table\",\n",
    "    \"She spread jam on the bread\",\n",
    "    \"He likes fruit jam and bread\",\n",
    "    \"We bought a jar of strawberry jam\",\n",
    "    \"Apricot is a sweet fruit\",\n",
    "    \"They enjoy toast with strawberry jam in the morning\",\n",
    "    \"The bread was fresh and warm from the oven\",\n",
    "    \"I like to drink fresh orange juice with breakfast\",\n",
    "    \"Banana is a healthy fruit full of energy\",\n",
    "    \"We shared apple pie and strawberry ice cream\",\n",
    "    \"The farmer grows apricots, plums, and grapes\",\n",
    "    \"He spread butter and jam on the toast\",\n",
    "    \"Children love sweet jam sandwiches\",\n",
    "    \"She bought fresh strawberries from the market\",\n",
    "    \"Grapes and apples are kept in the wooden basket\",\n",
    "    \"We made fresh fruit salad with banana and orange\",\n",
    "    \"The table was full of bread, jam, and cheese\",\n",
    "    \"He baked a loaf of bread with raisins and nuts\",\n",
    "    \"They made jam from apricots and strawberries\",\n",
    "    \"Orange marmalade tastes good on toast\"\n",
    "]\n",
    "\n",
    "print(\"Corpus size:\", len(tiny_corpus))\n",
    "print(\"First sentence:\", tiny_corpus[0])"
   ]
  },
  {
   "cell_type": "markdown",
   "id": "5f923d59-fe89-41f4-a811-cf3a9b919693",
   "metadata": {},
   "source": [
    "### Tokenize Corpus      [1M]"
   ]
  },
  {
   "cell_type": "code",
   "execution_count": 7,
   "id": "22ebc8b8-5806-4333-ad0e-633da9734cec",
   "metadata": {},
   "outputs": [
    {
     "name": "stdout",
     "output_type": "stream",
     "text": [
      "Tokenized corpus: [['i', 'like', 'to', 'eat', 'apricot', 'jam', 'on', 'toast'], ['the', 'jar', 'of', 'apricot', 'jam', 'is', 'on', 'the', 'table']]\n"
     ]
    }
   ],
   "source": [
    "# Define a function to tokenize the corpus\n",
    "def tokenize_corpus(corpus):\n",
    "    tokenized = [sentence.lower().split() for  sentence in corpus]    # convert each sentence to lowercase and split into words\n",
    "    return tokenized   # return the tokenized list\n",
    "\n",
    "# Apply the tokenizer on our tiny corpus\n",
    "tokenized = tokenize_corpus(tiny_corpus)\n",
    "\n",
    "# Print first 2 tokenized sentences to verify\n",
    "print(\"Tokenized corpus:\", tokenized[:2])   # check first 2 sentences\n",
    "\n"
   ]
  },
  {
   "cell_type": "markdown",
   "id": "66eaa66f-d2ca-439c-acf7-ee65bb7d00d7",
   "metadata": {},
   "source": [
    "### Build Vocabulary      [1M]"
   ]
  },
  {
   "cell_type": "code",
   "execution_count": 8,
   "id": "3558722f-219a-49cc-a38d-f08a78f187f0",
   "metadata": {},
   "outputs": [
    {
     "name": "stdout",
     "output_type": "stream",
     "text": [
      "Vocab size: 77\n",
      "First 10 vocab entries: [('i', 0), ('like', 1), ('to', 2), ('eat', 3), ('apricot', 4), ('jam', 5), ('on', 6), ('toast', 7), ('the', 8), ('jar', 9)]\n",
      "Word counts: [ 2.  2.  2.  1.  3.  9.  5.  4. 11.  2.]\n"
     ]
    }
   ],
   "source": [
    "# Function to build vocabulary from tokenized sentences\n",
    "def build_vocab(tokenized, min_count=1):\n",
    "    cnt = Counter(word for sentence in tokenized for word in sentence)    # count all words in the tokenized corpus\n",
    "    vocab = {w: i for i, (w, c) in enumerate(cnt.items()) if c>=min_count}   # keep words above threshold\n",
    "    idx2word = [w for w, c in cnt.items() if c >= min_count]                   # list of words\n",
    "    word_counts = np.array([cnt[w] for w in idx2word], dtype=np.float64)        # word frequencies\n",
    "    return vocab, idx2word, word_counts\n",
    "\n",
    "# Build vocab from our tokenized corpus\n",
    "vocab, idx2word, word_counts = build_vocab(tokenized)\n",
    "\n",
    "# Print some checks\n",
    "print(\"Vocab size:\", len(vocab))\n",
    "print(\"First 10 vocab entries:\", list(vocab.items())[:10])\n",
    "print(\"Word counts:\", word_counts[:10])\n"
   ]
  },
  {
   "cell_type": "markdown",
   "id": "f4fdc216-3bed-4353-a8b6-6af12151b217",
   "metadata": {},
   "source": [
    "### Generate Positive (target, context) Pairs     [1M]"
   ]
  },
  {
   "cell_type": "code",
   "execution_count": 9,
   "id": "7333edd7-3b97-483b-a006-756c8ed23d86",
   "metadata": {},
   "outputs": [
    {
     "name": "stdout",
     "output_type": "stream",
     "text": [
      "Number of pairs: 518\n",
      "First 10 pairs (as indices): [(0, 1), (0, 2), (1, 0), (1, 2), (1, 3), (2, 0), (2, 1), (2, 3), (2, 4), (3, 1)]\n",
      "First 10 pairs (as words): [('i', 'like'), ('i', 'to'), ('like', 'i'), ('like', 'to'), ('like', 'eat'), ('to', 'i'), ('to', 'like'), ('to', 'eat'), ('to', 'apricot'), ('eat', 'like')]\n"
     ]
    }
   ],
   "source": [
    "# Function to generate positive (target, context) pairs using a sliding window\n",
    "def generate_pos_pairs(tokenized, vocab, window=2):\n",
    "    pairs = []\n",
    "    for sent in tokenized:\n",
    "        indices = [vocab[w] for w in sent if w in vocab]          # convert words to indices\n",
    "        for i, target in enumerate(indices):\n",
    "            start = max(0, i - window)\n",
    "            end   = min(len(indices), i + window + 1)\n",
    "            for j in range(start, end):\n",
    "                if j == i:\n",
    "                    continue\n",
    "                context = indices[j]             # get context index\n",
    "                pairs.append((target, context))                   # save (target, context) pair\n",
    "    return pairs\n",
    "\n",
    "# Generate pairs\n",
    "pairs = generate_pos_pairs(tokenized, vocab, window=2)\n",
    "\n",
    "# Print some checks\n",
    "print(\"Number of pairs:\", len(pairs))\n",
    "print(\"First 10 pairs (as indices):\", pairs[:10])\n",
    "print(\"First 10 pairs (as words):\", [(idx2word[w], idx2word[c]) for w, c in pairs[:10]])\n",
    "\n"
   ]
  },
  {
   "cell_type": "markdown",
   "id": "a8c1f3d8-528b-425a-aff0-0f092726368e",
   "metadata": {},
   "source": [
    "### Dataset with Negative Sampling     [1M]"
   ]
  },
  {
   "cell_type": "code",
   "execution_count": 10,
   "id": "37457dd1-a009-4da5-91e3-2745dcfc03d0",
   "metadata": {},
   "outputs": [
    {
     "name": "stdout",
     "output_type": "stream",
     "text": [
      "Dataset length: 518\n",
      "Example item (target, context, negatives): (tensor(0), tensor(1), tensor([76,  5, 16]))\n",
      "As words: i like ['table', 'fresh', 'bread']\n"
     ]
    }
   ],
   "source": [
    "import torch\n",
    "from torch.utils.data import Dataset\n",
    "import numpy as np\n",
    "\n",
    "class SGNSDataset(Dataset):\n",
    "    def __init__(self, pairs, word_counts, idx2word, neg_k=5, alpha=0.75):\n",
    "        self.pairs = pairs\n",
    "        self.word_counts = word_counts\n",
    "        self.neg_k = neg_k\n",
    "        self.vocab_size = len(word_counts)\n",
    "        probs = word_counts ** alpha                 # raise counts to alpha\n",
    "        self.neg_probs = probs / probs.sum()         # normalize into probabilities\n",
    "        self.idx2word = idx2word\n",
    "\n",
    "    def __len__(self):\n",
    "        return len(self.pairs)                        # total number of pairs\n",
    "\n",
    "    def __getitem__(self, i):\n",
    "        w, c = self.pairs[i]                         # target, context\n",
    "        negs = np.random.choice(self.vocab_size, size=self.neg_k, p=self.neg_probs)  # negative samples\n",
    "        return (\n",
    "            torch.tensor(w, dtype=torch.long),\n",
    "            torch.tensor(c, dtype=torch.long),\n",
    "            torch.tensor(negs, dtype=torch.long)\n",
    "        )\n",
    "\n",
    "# Create dataset instance\n",
    "dataset = SGNSDataset(pairs, word_counts, idx2word, neg_k=3)\n",
    "\n",
    "# Print checks\n",
    "print(\"Dataset length:\", len(dataset))\n",
    "print(\"Example item (target, context, negatives):\", dataset[0])\n",
    "print(\"As words:\", idx2word[dataset[0][0]], idx2word[dataset[0][1]], [idx2word[n] for n in dataset[0][2]])\n"
   ]
  },
  {
   "cell_type": "markdown",
   "id": "7a27f059-7e38-41b8-b873-3271cca723ed",
   "metadata": {},
   "source": [
    "### Define Skip-gram with Negative Sampling (SGNS) Model                      [1 M]"
   ]
  },
  {
   "cell_type": "code",
   "execution_count": 11,
   "id": "983b6171-ab54-4fa2-9765-1455dc8fbca2",
   "metadata": {},
   "outputs": [],
   "source": [
    "# Define the SGNS (Skip-Gram with Negative Sampling) model\n",
    "class SGNSModel(nn.Module):\n",
    "    def __init__(self, vocab_size, emb_dim):\n",
    "        super().__init__()\n",
    "        self.in_embed  = nn.Embedding(vocab_size, emb_dim)   # Input embedding matrix (W)\n",
    "        self.out_embed = nn.Embedding(vocab_size, emb_dim)   # Output embedding matrix (C)\n",
    "        self._init_weights()\n",
    "\n",
    "    def _init_weights(self):\n",
    "        init_range = 0.5 / self.in_embed.embedding_dim\n",
    "        nn.init.uniform_(self.in_embed.weight, -init_range, init_range)   # initialize input embeddings\n",
    "        nn.init.uniform_(self.out_embed.weight, -init_range, init_range)  # initialize output embeddings\n",
    "\n",
    "    def forward(self, target_idx, pos_idx, neg_idx):\n",
    "        \"\"\"\n",
    "        target_idx: (B,)  → target word indices\n",
    "        pos_idx:   (B,)  → positive context word indices\n",
    "        neg_idx:   (B,k) → negative sample word indices\n",
    "        returns: loss for the batch (scalar)\n",
    "        \"\"\"\n",
    "        v_t   = self.in_embed(target_idx)             # (B, d) → target embeddings\n",
    "        v_pos = self.out_embed(pos_idx)               # (B, d) → positive context embeddings\n",
    "        v_neg = self.out_embed(neg_idx)               # (B, k, d) → negative embeddings\n",
    "\n",
    "        # Positive score: dot product of v_t and v_pos\n",
    "        pos_score = torch.sum(v_t*v_pos, dim=1)   # (B,)\n",
    "\n",
    "        # Negative scores: dot product of v_t and v_neg\n",
    "        neg_score = torch.bmm(v_neg, v_t.unsqueeze(2)).squeeze(2)    # (B, k)\n",
    "\n",
    "        # Loss function: -[ logσ(pos_score) + sum logσ(-neg_score) ]\n",
    "        pos_loss = F.logsigmoid(pos_score)                           # (B,)\n",
    "        neg_loss = torch.sum(F.logsigmoid(-neg_score), dim=1)        # (B,)\n",
    "        loss = - (pos_loss + neg_loss).mean()\n",
    "        return loss\n",
    "\n",
    "    def get_input_embeddings(self):\n",
    "        return self.in_embed.weight.data.cpu().numpy()\n",
    "\n"
   ]
  },
  {
   "cell_type": "code",
   "execution_count": 12,
   "id": "3818d078-ecbf-4a17-a5b1-7904fefec4e7",
   "metadata": {},
   "outputs": [
    {
     "name": "stdout",
     "output_type": "stream",
     "text": [
      "Sample: (tensor(0), tensor(1), tensor([28, 41, 52]))\n",
      "As words: i like ['in', 'full', 'grapes']\n"
     ]
    }
   ],
   "source": [
    "model = SGNSModel(vocab_size=len(vocab), emb_dim=50)  # Create model instance\n",
    "sample = dataset[0]  # Take one sample from dataset\n",
    "print(\"Sample:\", sample)\n",
    "print(\"As words:\", idx2word[sample[0]], idx2word[sample[1]], [idx2word[n] for n in sample[2]])"
   ]
  },
  {
   "cell_type": "markdown",
   "id": "82b2b0af-0be6-47e2-939a-1fbca4c7fa30",
   "metadata": {},
   "source": [
    "### Training function (returns loss history)              [3M]"
   ]
  },
  {
   "cell_type": "markdown",
   "id": "d2666cad-194a-4e40-9348-2de2bcc2fb8e",
   "metadata": {},
   "source": [
    "**train_skipgram():**\n",
    "- Trains a model on corpus and returns the learned embeddings, vocabulary, model, and training history."
   ]
  },
  {
   "cell_type": "code",
   "execution_count": 13,
   "id": "fc7c66c5-1417-41aa-a29d-aeb080a0ab03",
   "metadata": {},
   "outputs": [],
   "source": [
    "def train_skipgram(corpus, emb_dim=100, window=2, neg_k=5, min_count=1,\n",
    "                   batch_size=512, epochs=5, lr=0.025, log_every=100):\n",
    "    # 1) Preprocess\n",
    "    tokenized = tokenize_corpus(corpus)                                      # tokenize the corpus\n",
    "    vocab, idx2word, word_counts = build_vocab(tokenized, min_count=min_count)  # build vocab\n",
    "    pairs = generate_pos_pairs(tokenized, vocab, window=window)              # positive pairs\n",
    "    print(f\"[train_skipgram] Vocab size: {len(idx2word)}, training pairs: {len(pairs)}\")\n",
    "\n",
    "    # 2) Dataset & DataLoader\n",
    "    dataset = SGNSDataset(pairs, word_counts, idx2word, neg_k=neg_k)\n",
    "    dataloader = DataLoader(dataset, batch_size=batch_size, shuffle=True, drop_last=False)\n",
    "\n",
    "    # 3) Model & optimizer (CPU)\n",
    "    model = SGNSModel(len(idx2word), emb_dim)   # create model\n",
    "    opt = torch.optim.SGD(model.parameters(), lr=lr)\n",
    "\n",
    "    # 4) Training loop\n",
    "    batch_losses, epoch_losses = [], []\n",
    "    for epoch in range(1, epochs+1):\n",
    "        total_loss, n_batches = 0.0, 0\n",
    "        print(f\"\\nStarting epoch {epoch}/{epochs} ...\")\n",
    "\n",
    "        for batch_idx, batch in enumerate(dataloader, start=1):\n",
    "            tgt, pos, negs = batch   # tensors from dataset\n",
    "\n",
    "            # forward + backward + step\n",
    "            opt.zero_grad()              # clear gradients\n",
    "            loss = model(tgt, pos, negs) # compute loss\n",
    "            loss.backward()              # backprop\n",
    "            opt.step()                   # update parameters\n",
    "\n",
    "            # bookkeeping\n",
    "            loss_item = loss.item()      # float value of loss\n",
    "            batch_losses.append(loss_item)\n",
    "            total_loss += loss_item\n",
    "            n_batches += 1\n",
    "\n",
    "            if batch_idx % log_every == 0:\n",
    "                print(f\"  [Epoch {epoch}] Batch {batch_idx} | Batch loss: {loss_item:.4f} | Avg loss: {total_loss/n_batches:.4f}\")\n",
    "\n",
    "        # end of epoch\n",
    "        epoch_avg = total_loss / max(1, n_batches)\n",
    "        epoch_losses.append(epoch_avg)\n",
    "        print(f\"Epoch {epoch} finished — avg loss: {epoch_avg:.4f}\")\n",
    "\n",
    "    # 5) Return results\n",
    "    embeddings = model.get_input_embeddings()   # get numpy embeddings\n",
    "    history = {\"batch_losses\": batch_losses, \"epoch_losses\": epoch_losses}\n",
    "    return embeddings, vocab, idx2word, model, history"
   ]
  },
  {
   "cell_type": "code",
   "execution_count": 14,
   "id": "f444c904-d837-4e89-b19f-6addf5acc5c4",
   "metadata": {},
   "outputs": [
    {
     "name": "stdout",
     "output_type": "stream",
     "text": [
      "[train_skipgram] Vocab size: 77, training pairs: 518\n",
      "\n",
      "Starting epoch 1/50 ...\n",
      "Epoch 1 finished — avg loss: 4.1589\n",
      "\n",
      "Starting epoch 2/50 ...\n",
      "Epoch 2 finished — avg loss: 4.1588\n",
      "\n",
      "Starting epoch 3/50 ...\n",
      "Epoch 3 finished — avg loss: 4.1588\n",
      "\n",
      "Starting epoch 4/50 ...\n",
      "Epoch 4 finished — avg loss: 4.1588\n",
      "\n",
      "Starting epoch 5/50 ...\n",
      "Epoch 5 finished — avg loss: 4.1588\n",
      "\n",
      "Starting epoch 6/50 ...\n",
      "Epoch 6 finished — avg loss: 4.1587\n",
      "\n",
      "Starting epoch 7/50 ...\n",
      "Epoch 7 finished — avg loss: 4.1587\n",
      "\n",
      "Starting epoch 8/50 ...\n",
      "Epoch 8 finished — avg loss: 4.1586\n",
      "\n",
      "Starting epoch 9/50 ...\n",
      "Epoch 9 finished — avg loss: 4.1585\n",
      "\n",
      "Starting epoch 10/50 ...\n",
      "Epoch 10 finished — avg loss: 4.1584\n",
      "\n",
      "Starting epoch 11/50 ...\n",
      "Epoch 11 finished — avg loss: 4.1582\n",
      "\n",
      "Starting epoch 12/50 ...\n",
      "Epoch 12 finished — avg loss: 4.1580\n",
      "\n",
      "Starting epoch 13/50 ...\n",
      "Epoch 13 finished — avg loss: 4.1578\n",
      "\n",
      "Starting epoch 14/50 ...\n",
      "Epoch 14 finished — avg loss: 4.1574\n",
      "\n",
      "Starting epoch 15/50 ...\n",
      "Epoch 15 finished — avg loss: 4.1571\n",
      "\n",
      "Starting epoch 16/50 ...\n",
      "Epoch 16 finished — avg loss: 4.1566\n",
      "\n",
      "Starting epoch 17/50 ...\n",
      "Epoch 17 finished — avg loss: 4.1558\n",
      "\n",
      "Starting epoch 18/50 ...\n",
      "Epoch 18 finished — avg loss: 4.1551\n",
      "\n",
      "Starting epoch 19/50 ...\n",
      "Epoch 19 finished — avg loss: 4.1540\n",
      "\n",
      "Starting epoch 20/50 ...\n",
      "Epoch 20 finished — avg loss: 4.1522\n",
      "\n",
      "Starting epoch 21/50 ...\n",
      "Epoch 21 finished — avg loss: 4.1506\n",
      "\n",
      "Starting epoch 22/50 ...\n",
      "Epoch 22 finished — avg loss: 4.1479\n",
      "\n",
      "Starting epoch 23/50 ...\n",
      "Epoch 23 finished — avg loss: 4.1445\n",
      "\n",
      "Starting epoch 24/50 ...\n",
      "Epoch 24 finished — avg loss: 4.1398\n",
      "\n",
      "Starting epoch 25/50 ...\n",
      "Epoch 25 finished — avg loss: 4.1355\n",
      "\n",
      "Starting epoch 26/50 ...\n",
      "Epoch 26 finished — avg loss: 4.1286\n",
      "\n",
      "Starting epoch 27/50 ...\n",
      "Epoch 27 finished — avg loss: 4.1189\n",
      "\n",
      "Starting epoch 28/50 ...\n",
      "Epoch 28 finished — avg loss: 4.1078\n",
      "\n",
      "Starting epoch 29/50 ...\n",
      "Epoch 29 finished — avg loss: 4.0923\n",
      "\n",
      "Starting epoch 30/50 ...\n",
      "Epoch 30 finished — avg loss: 4.0747\n",
      "\n",
      "Starting epoch 31/50 ...\n",
      "Epoch 31 finished — avg loss: 4.0473\n",
      "\n",
      "Starting epoch 32/50 ...\n",
      "Epoch 32 finished — avg loss: 4.0249\n",
      "\n",
      "Starting epoch 33/50 ...\n",
      "Epoch 33 finished — avg loss: 3.9945\n",
      "\n",
      "Starting epoch 34/50 ...\n",
      "Epoch 34 finished — avg loss: 3.9452\n",
      "\n",
      "Starting epoch 35/50 ...\n",
      "Epoch 35 finished — avg loss: 3.9050\n",
      "\n",
      "Starting epoch 36/50 ...\n",
      "Epoch 36 finished — avg loss: 3.8633\n",
      "\n",
      "Starting epoch 37/50 ...\n",
      "Epoch 37 finished — avg loss: 3.7954\n",
      "\n",
      "Starting epoch 38/50 ...\n",
      "Epoch 38 finished — avg loss: 3.7491\n",
      "\n",
      "Starting epoch 39/50 ...\n",
      "Epoch 39 finished — avg loss: 3.6961\n",
      "\n",
      "Starting epoch 40/50 ...\n",
      "Epoch 40 finished — avg loss: 3.6309\n",
      "\n",
      "Starting epoch 41/50 ...\n",
      "Epoch 41 finished — avg loss: 3.5712\n",
      "\n",
      "Starting epoch 42/50 ...\n",
      "Epoch 42 finished — avg loss: 3.5275\n",
      "\n",
      "Starting epoch 43/50 ...\n",
      "Epoch 43 finished — avg loss: 3.4631\n",
      "\n",
      "Starting epoch 44/50 ...\n",
      "Epoch 44 finished — avg loss: 3.4129\n",
      "\n",
      "Starting epoch 45/50 ...\n",
      "Epoch 45 finished — avg loss: 3.3607\n",
      "\n",
      "Starting epoch 46/50 ...\n",
      "Epoch 46 finished — avg loss: 3.3072\n",
      "\n",
      "Starting epoch 47/50 ...\n",
      "Epoch 47 finished — avg loss: 3.2681\n",
      "\n",
      "Starting epoch 48/50 ...\n",
      "Epoch 48 finished — avg loss: 3.2185\n",
      "\n",
      "Starting epoch 49/50 ...\n",
      "Epoch 49 finished — avg loss: 3.1905\n",
      "\n",
      "Starting epoch 50/50 ...\n",
      "Epoch 50 finished — avg loss: 3.1516\n"
     ]
    }
   ],
   "source": [
    "# Block 6 — Run training\n",
    "emb, vocab, idx2word, model, history = train_skipgram( tiny_corpus,  emb_dim=50,  window=2, neg_k=5, min_count=1, batch_size=8, epochs=50, lr=0.05)\n"
   ]
  },
  {
   "cell_type": "markdown",
   "id": "74995fe9-a5b0-44f5-a4cc-07788b8588f7",
   "metadata": {},
   "source": [
    "### Save the Model"
   ]
  },
  {
   "cell_type": "code",
   "execution_count": 15,
   "id": "bc288f24-4f9e-4efb-b320-fba3e56f2dae",
   "metadata": {},
   "outputs": [
    {
     "name": "stdout",
     "output_type": "stream",
     "text": [
      "Saved embeddings to sgns_embeddings.txt\n",
      "Saved model weights to sgns_model_weights.pth\n"
     ]
    }
   ],
   "source": [
    "# Save embeddings text\n",
    "out_file = \"sgns_embeddings.txt\"\n",
    "with open(out_file, \"w\", encoding=\"utf8\") as f:\n",
    "    V, D = emb.shape\n",
    "    f.write(f\"{V} {D}\\n\")\n",
    "    for i, w in enumerate(idx2word):\n",
    "        vec = \" \".join(map(str, emb[i].tolist()))\n",
    "        f.write(f\"{w} {vec}\\n\")\n",
    "print(\"Saved embeddings to\", out_file)\n",
    "\n",
    "# Save PyTorch model weights\n",
    "torch.save(model.state_dict(), \"sgns_model_weights.pth\")\n",
    "print(\"Saved model weights to sgns_model_weights.pth\")"
   ]
  },
  {
   "cell_type": "markdown",
   "id": "ef3eed1d-0c18-4b51-9edf-c0bd2728751e",
   "metadata": {},
   "source": [
    "### Plot loss & inspect embeddings"
   ]
  },
  {
   "cell_type": "code",
   "execution_count": 16,
   "id": "de6f915c-2075-4d96-a584-c4b5b6de678d",
   "metadata": {},
   "outputs": [
    {
     "data": {
      "image/png": "[encoded data removed]",
      "text/plain": [
       "<Figure size 640x480 with 1 Axes>"
      ]
     },
     "metadata": {},
     "output_type": "display_data"
    }
   ],
   "source": [
    "# Block 7 — Plot loss\n",
    "import matplotlib.pyplot as plt\n",
    "plt.plot(history['epoch_losses'], marker='o')\n",
    "plt.xlabel('Epoch')\n",
    "plt.ylabel('Average loss')\n",
    "plt.title('Training loss per epoch')\n",
    "plt.grid(True)\n",
    "plt.show()"
   ]
  },
  {
   "cell_type": "markdown",
   "id": "53528522-3be1-45a9-87f5-1c3391bc3098",
   "metadata": {},
   "source": [
    "### Vizualization"
   ]
  },
  {
   "cell_type": "code",
   "execution_count": 17,
   "id": "8cf651f2-da2b-4070-b75a-da5888b657bf",
   "metadata": {},
   "outputs": [
    {
     "name": "stderr",
     "output_type": "stream",
     "text": [
      "c:\\ProgramData\\anaconda3\\Lib\\site-packages\\sklearn\\manifold\\_t_sne.py:1162: FutureWarning: 'n_iter' was renamed to 'max_iter' in version 1.5 and will be removed in 1.7.\n",
      "  warnings.warn(\n",
      "c:\\ProgramData\\anaconda3\\Lib\\site-packages\\joblib\\externals\\loky\\backend\\context.py:136: UserWarning: Could not find the number of physical cores for the following reason:\n",
      "[WinError 2] The system cannot find the file specified\n",
      "Returning the number of logical cores instead. You can silence this warning by setting LOKY_MAX_CPU_COUNT to the number of cores you want to use.\n",
      "  warnings.warn(\n",
      "  File \"c:\\ProgramData\\anaconda3\\Lib\\site-packages\\joblib\\externals\\loky\\backend\\context.py\", line 257, in _count_physical_cores\n",
      "    cpu_info = subprocess.run(\n",
      "               ^^^^^^^^^^^^^^^\n",
      "  File \"c:\\ProgramData\\anaconda3\\Lib\\subprocess.py\", line 548, in run\n",
      "    with Popen(*popenargs, **kwargs) as process:\n",
      "         ^^^^^^^^^^^^^^^^^^^^^^^^^^^\n",
      "  File \"c:\\ProgramData\\anaconda3\\Lib\\subprocess.py\", line 1026, in __init__\n",
      "    self._execute_child(args, executable, preexec_fn, close_fds,\n",
      "  File \"c:\\ProgramData\\anaconda3\\Lib\\subprocess.py\", line 1538, in _execute_child\n",
      "    hp, ht, pid, tid = _winapi.CreateProcess(executable, args,\n",
      "                       ^^^^^^^^^^^^^^^^^^^^^^^^^^^^^^^^^^^^^^^\n"
     ]
    },
    {
     "data": {
      "image/png": "[encoded data removed]",
      "text/plain": [
       "<Figure size 1000x800 with 1 Axes>"
      ]
     },
     "metadata": {},
     "output_type": "display_data"
    }
   ],
   "source": [
    "# Robust PCA -> t-SNE visualization (works for small vocabularies)\n",
    "import numpy as np\n",
    "import matplotlib.pyplot as plt\n",
    "from sklearn.decomposition import PCA\n",
    "from sklearn.manifold import TSNE\n",
    "\n",
    "# ensure emb is numpy\n",
    "if not isinstance(emb, np.ndarray):\n",
    "    emb_np = emb.cpu().numpy() if hasattr(emb, \"cpu\") else np.array(emb)\n",
    "else:\n",
    "    emb_np = emb\n",
    "\n",
    "n_samples, n_features = emb_np.shape\n",
    "# choose PCA components safely\n",
    "pca_n = min(50, n_features, n_samples)   # can't exceed min(n_samples, n_features)\n",
    "if pca_n < 2:\n",
    "    raise ValueError(f\"Too few samples/features for PCA: samples={n_samples}, features={n_features}\")\n",
    "\n",
    "# 1) PCA reduce to speed up t-SNE (or to 2D directly if very small)\n",
    "pca = PCA(n_components=pca_n, random_state=42)\n",
    "emb_pca = pca.fit_transform(emb_np)\n",
    "\n",
    "# If vocabulary is very small, you can skip t-SNE and use PCA 2D\n",
    "if n_samples <= 10:\n",
    "    # just plot first two PCA components\n",
    "    emb_2d = emb_pca[:, :2]\n",
    "else:\n",
    "    # run t-SNE on PCA-reduced vectors; choose tsne_pca_dim smaller than emb_pca cols\n",
    "    tsne_pca_dim = min(30, emb_pca.shape[1])   # t-SNE input dim\n",
    "    from sklearn.manifold import TSNE\n",
    "    tsne = TSNE(n_components=2, perplexity=5, n_iter=1000, random_state=42, init=\"pca\")\n",
    "    emb_2d = tsne.fit_transform(emb_pca[:, :tsne_pca_dim])\n",
    "\n",
    "plt.figure(figsize=(10, 8))\n",
    "plt.scatter(emb_2d[:,0], emb_2d[:,1], s=40)\n",
    "for i, word in enumerate(idx2word):\n",
    "    plt.text(emb_2d[i,0]+0.01, emb_2d[i,1]+0.01, word, fontsize=9)\n",
    "plt.title(\"Embeddings visualization (PCA -> t-SNE or PCA 2D)\")\n",
    "plt.show()\n"
   ]
  },
  {
   "cell_type": "markdown",
   "id": "e4d3ea3a-1252-4f7d-a8b6-afea7d389bb5",
   "metadata": {},
   "source": [
    "### Word Semantics Analysis"
   ]
  },
  {
   "cell_type": "markdown",
   "id": "1e43104a-0ad1-49ff-bc04-e82be1c0ed69",
   "metadata": {},
   "source": [
    "#### 1. Find Most Similar Words (Nearest Neighbors)     [0.5M]"
   ]
  },
  {
   "cell_type": "code",
   "execution_count": 18,
   "id": "1fdb4860-5934-46d3-a80c-4c87c4e70cc9",
   "metadata": {},
   "outputs": [
    {
     "name": "stdout",
     "output_type": "stream",
     "text": [
      "Neighbors of 'apricot': [('of', 0.9985597133636475), ('a', 0.9982357025146484), ('is', 0.9981145858764648), ('with', 0.9979271292686462), ('the', 0.997885525226593)]\n"
     ]
    }
   ],
   "source": [
    "# Function to find most similar words (nearest neighbors) for a given word\n",
    "def most_similar(word, emb, vocab, idx2word, topn=5):\n",
    "    if word not in vocab:\n",
    "        return []\n",
    "    i = vocab[word]                        # index of the given word\n",
    "    vec = emb[i]                           # embedding vector of the word\n",
    "    norms = np.linalg.norm(emb, axis=1)    # compute norms of all embeddings\n",
    "    sims = emb.dot(vec) / (norms * np.linalg.norm(vec))   # cosine similarity\n",
    "    best = sims.argsort()[::-1]            # sort indices by similarity (descending)\n",
    "    return [(idx2word[j], float(sims[j])) for j in best[1:topn+1]]\n",
    "\n",
    "# Test the function\n",
    "print(\"Neighbors of 'apricot':\", most_similar(\"apricot\", emb, vocab, idx2word))\n"
   ]
  },
  {
   "cell_type": "markdown",
   "id": "4cc2b2ad-7112-4693-ba01-b333ace8d37f",
   "metadata": {},
   "source": [
    "#### 2. Find the Odd Word Out    [0.5]"
   ]
  },
  {
   "cell_type": "code",
   "execution_count": 19,
   "id": "e9c62927-bc10-47a6-a813-1e9783a5983b",
   "metadata": {},
   "outputs": [
    {
     "name": "stdout",
     "output_type": "stream",
     "text": [
      "Odd one out: apricot\n"
     ]
    }
   ],
   "source": [
    "import numpy as np\n",
    "\n",
    "def odd_one_out(words, emb, vocab):\n",
    "    \"\"\"\n",
    "    Find the odd word out from a list using embeddings.\n",
    "    words: list of strings\n",
    "    emb:   numpy array of shape (V, D) from your model\n",
    "    vocab: dict mapping word -> index\n",
    "    \"\"\"\n",
    "    # keep only words present in vocab\n",
    "    valid_words = [w for w in words if w in vocab]\n",
    "    if len(valid_words) < 2:\n",
    "        return None\n",
    "    \n",
    "    # collect their vectors\n",
    "    vecs = np.array([emb[vocab[w]] for w in valid_words])\n",
    "    \n",
    "    # compute mean vector\n",
    "    mean_vec = np.mean(vecs, axis=0)      # average of word vectors\n",
    "    \n",
    "    # cosine similarity of each word with mean\n",
    "    sims = [np.dot(v, mean_vec) / (np.linalg.norm(v) * np.linalg.norm(mean_vec)) \n",
    "            for v in vecs]\n",
    "    \n",
    "    # word with lowest similarity = odd one\n",
    "    odd_word = valid_words[int(np.argmin(sims))]\n",
    "    return odd_word\n",
    "\n",
    "# Test the function\n",
    "print(\"Odd one out:\", odd_one_out([\"apricot\", \"jam\", \"strawberry\", \"toast\"], emb, vocab))\n",
    "\n"
   ]
  },
  {
   "cell_type": "markdown",
   "id": "0cb5126d-b8e8-4d9b-9531-c30417ce6c2e",
   "metadata": {},
   "source": [
    "#### 3. Cosine Similarity Between Two Words   [1 M]"
   ]
  },
  {
   "cell_type": "code",
   "execution_count": 20,
   "id": "dfd24cf0-f0d1-49e7-a6c5-548e80334f81",
   "metadata": {},
   "outputs": [
    {
     "name": "stdout",
     "output_type": "stream",
     "text": [
      "sim(apricot, jam)   = 0.9975764751434326\n",
      "sim(apricot, toast) = 0.9969043731689453\n"
     ]
    }
   ],
   "source": [
    "import numpy as np\n",
    "\n",
    "def cosine_similarity(word1, word2, emb, word2idx):\n",
    "    \"\"\"\n",
    "    Compute cosine similarity between two words using raw embeddings.\n",
    "    Normalizes rows inside the function.\n",
    "    \"\"\"\n",
    "    if word1 not in word2idx or word2 not in word2idx:\n",
    "        return None\n",
    "    \n",
    "    # normalize embeddings row-wise (on the fly)\n",
    "    norms = np.linalg.norm(emb, axis=1, keepdims=True)\n",
    "    norms[norms == 0] = 1.0  # avoid division by zero\n",
    "    norm_emb = emb / norms\n",
    "    \n",
    "    # get vectors\n",
    "    v1 = norm_emb[word2idx[word1]]\n",
    "    v2 = norm_emb[word2idx[word2]]\n",
    "    \n",
    "    # cosine similarity = dot product (since normalized)\n",
    "    return float(np.dot(v1, v2))\n",
    "\n",
    "# Test similarity\n",
    "print(\"sim(apricot, jam)   =\", cosine_similarity(\"apricot\", \"jam\", emb, vocab))\n",
    "print(\"sim(apricot, toast) =\", cosine_similarity(\"apricot\", \"toast\", emb, vocab))\n"
   ]
  },
  {
   "cell_type": "code",
   "execution_count": null,
   "id": "832b362d-aafe-4e4e-9508-969298d2d4e2",
   "metadata": {},
   "outputs": [],
   "source": []
  }
 ],
 "metadata": {
  "kernelspec": {
   "display_name": "base",
   "language": "python",
   "name": "python3"
  },
  "language_info": {
   "codemirror_mode": {
    "name": "ipython",
    "version": 3
   },
   "file_extension": ".py",
   "mimetype": "text/x-python",
   "name": "python",
   "nbconvert_exporter": "python",
   "pygments_lexer": "ipython3",
   "version": "3.12.7"
  }
 },
 "nbformat": 4,
 "nbformat_minor": 5
}
